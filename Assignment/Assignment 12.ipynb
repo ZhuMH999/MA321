{
 "cells": [
  {
   "cell_type": "markdown",
   "id": "3c652221",
   "metadata": {},
   "source": [
    "# Assignment 12"
   ]
  },
  {
   "cell_type": "markdown",
   "id": "4f8d9f2b",
   "metadata": {},
   "source": [
    "#### Question 12.1 \n",
    "\n",
    "Write a function `even_seq` that accepts an integer as an argument  and outputs all the positive even integers that are less than the integer, in order, with each integer seperated by a comma.\n",
    "Example: \n",
    "```\n",
    "even_seq(8) should generate\n",
    "2,4,6\n",
    "even_seq(1) should not have any output\n"
   ]
  },
  {
   "cell_type": "code",
   "execution_count": 3,
   "id": "9766e883",
   "metadata": {
    "ExecuteTime": {
     "end_time": "2025-07-03T12:15:33.327035Z",
     "start_time": "2025-07-03T12:15:33.322198Z"
    }
   },
   "outputs": [
    {
     "name": "stdout",
     "output_type": "stream",
     "text": [
      "[2, 4, 6]\n",
      "[2]\n"
     ]
    }
   ],
   "source": [
    "## Code here\n",
    "def even_seq(i):\n",
    "    if i < 2:\n",
    "        return None\n",
    "    return list(range(2, i, 2))\n",
    "\n",
    "print(even_seq(8))\n",
    "print(even_seq(3))"
   ]
  },
  {
   "cell_type": "markdown",
   "id": "47e4e269",
   "metadata": {},
   "source": [
    "#### Question 12.2\n",
    "Write a function `spell` that accepts a string and outputs a pattern such that the string appears to spell itself out line by line.\n",
    "\n",
    "For example `spell(\"Hello\")`, the output should be:\n",
    "```\n",
    "H\n",
    "He\n",
    "Hel\n",
    "Hell\n",
    "Hello\n",
    "```"
   ]
  },
  {
   "cell_type": "markdown",
   "id": "7ac00cda",
   "metadata": {},
   "source": [
    "#### Question 12.3\n",
    "Write a function `repeats(a,b)` that accepts two integers, a and b, and returns a list (NOT print) that contains b copies of a, followed by a copies of b, followed by the number -1. You may assume that a and b are never negative.\n",
    "\n",
    "For example,\n",
    "\n",
    "`repeats(2,7)`, the ouput will be:\n",
    "\n",
    "`[2, 2, 2, 2, 2, 2, 2, 7, 7, -1]`\n",
    "\n",
    "`repeats(0,0)`, the output will be:\n",
    "\n",
    "`[-1]`"
   ]
  },
  {
   "cell_type": "code",
   "execution_count": 20,
   "outputs": [
    {
     "name": "stdout",
     "output_type": "stream",
     "text": [
      "T\n",
      "TH\n",
      "THI\n",
      "THIS\n",
      "THIS \n",
      "THIS I\n",
      "THIS IS\n",
      "THIS IS \n",
      "THIS IS A\n",
      "THIS IS A \n",
      "THIS IS A V\n",
      "THIS IS A VE\n",
      "THIS IS A VER\n",
      "THIS IS A VERY\n",
      "THIS IS A VERY \n",
      "THIS IS A VERY L\n",
      "THIS IS A VERY LO\n",
      "THIS IS A VERY LON\n",
      "THIS IS A VERY LONG\n",
      "THIS IS A VERY LONG \n",
      "THIS IS A VERY LONG T\n",
      "THIS IS A VERY LONG TE\n",
      "THIS IS A VERY LONG TEX\n",
      "THIS IS A VERY LONG TEXT\n",
      "THIS IS A VERY LONG TEXT \n",
      "THIS IS A VERY LONG TEXT S\n",
      "THIS IS A VERY LONG TEXT SO\n",
      "THIS IS A VERY LONG TEXT SO \n",
      "THIS IS A VERY LONG TEXT SO T\n",
      "THIS IS A VERY LONG TEXT SO TH\n",
      "THIS IS A VERY LONG TEXT SO THE\n",
      "THIS IS A VERY LONG TEXT SO THER\n",
      "THIS IS A VERY LONG TEXT SO THERE\n",
      "THIS IS A VERY LONG TEXT SO THERE \n",
      "THIS IS A VERY LONG TEXT SO THERE W\n",
      "THIS IS A VERY LONG TEXT SO THERE WI\n",
      "THIS IS A VERY LONG TEXT SO THERE WIL\n",
      "THIS IS A VERY LONG TEXT SO THERE WILL\n",
      "THIS IS A VERY LONG TEXT SO THERE WILL \n",
      "THIS IS A VERY LONG TEXT SO THERE WILL B\n",
      "THIS IS A VERY LONG TEXT SO THERE WILL BE\n",
      "THIS IS A VERY LONG TEXT SO THERE WILL BE \n",
      "THIS IS A VERY LONG TEXT SO THERE WILL BE A\n",
      "THIS IS A VERY LONG TEXT SO THERE WILL BE A \n",
      "THIS IS A VERY LONG TEXT SO THERE WILL BE A L\n",
      "THIS IS A VERY LONG TEXT SO THERE WILL BE A LO\n",
      "THIS IS A VERY LONG TEXT SO THERE WILL BE A LOT\n",
      "THIS IS A VERY LONG TEXT SO THERE WILL BE A LOT \n",
      "THIS IS A VERY LONG TEXT SO THERE WILL BE A LOT O\n",
      "THIS IS A VERY LONG TEXT SO THERE WILL BE A LOT OF\n",
      "THIS IS A VERY LONG TEXT SO THERE WILL BE A LOT OF \n",
      "THIS IS A VERY LONG TEXT SO THERE WILL BE A LOT OF L\n",
      "THIS IS A VERY LONG TEXT SO THERE WILL BE A LOT OF LI\n",
      "THIS IS A VERY LONG TEXT SO THERE WILL BE A LOT OF LIN\n",
      "THIS IS A VERY LONG TEXT SO THERE WILL BE A LOT OF LINE\n",
      "THIS IS A VERY LONG TEXT SO THERE WILL BE A LOT OF LINES\n",
      "THIS IS A VERY LONG TEXT SO THERE WILL BE A LOT OF LINES \n",
      "THIS IS A VERY LONG TEXT SO THERE WILL BE A LOT OF LINES W\n",
      "THIS IS A VERY LONG TEXT SO THERE WILL BE A LOT OF LINES WH\n",
      "THIS IS A VERY LONG TEXT SO THERE WILL BE A LOT OF LINES WHI\n",
      "THIS IS A VERY LONG TEXT SO THERE WILL BE A LOT OF LINES WHIC\n",
      "THIS IS A VERY LONG TEXT SO THERE WILL BE A LOT OF LINES WHICH\n",
      "THIS IS A VERY LONG TEXT SO THERE WILL BE A LOT OF LINES WHICH \n",
      "THIS IS A VERY LONG TEXT SO THERE WILL BE A LOT OF LINES WHICH W\n",
      "THIS IS A VERY LONG TEXT SO THERE WILL BE A LOT OF LINES WHICH WI\n",
      "THIS IS A VERY LONG TEXT SO THERE WILL BE A LOT OF LINES WHICH WIL\n",
      "THIS IS A VERY LONG TEXT SO THERE WILL BE A LOT OF LINES WHICH WILL\n",
      "THIS IS A VERY LONG TEXT SO THERE WILL BE A LOT OF LINES WHICH WILL \n",
      "THIS IS A VERY LONG TEXT SO THERE WILL BE A LOT OF LINES WHICH WILL F\n",
      "THIS IS A VERY LONG TEXT SO THERE WILL BE A LOT OF LINES WHICH WILL FL\n",
      "THIS IS A VERY LONG TEXT SO THERE WILL BE A LOT OF LINES WHICH WILL FLO\n",
      "THIS IS A VERY LONG TEXT SO THERE WILL BE A LOT OF LINES WHICH WILL FLOO\n",
      "THIS IS A VERY LONG TEXT SO THERE WILL BE A LOT OF LINES WHICH WILL FLOOD\n",
      "THIS IS A VERY LONG TEXT SO THERE WILL BE A LOT OF LINES WHICH WILL FLOOD \n",
      "THIS IS A VERY LONG TEXT SO THERE WILL BE A LOT OF LINES WHICH WILL FLOOD U\n",
      "THIS IS A VERY LONG TEXT SO THERE WILL BE A LOT OF LINES WHICH WILL FLOOD UP\n",
      "THIS IS A VERY LONG TEXT SO THERE WILL BE A LOT OF LINES WHICH WILL FLOOD UP \n",
      "THIS IS A VERY LONG TEXT SO THERE WILL BE A LOT OF LINES WHICH WILL FLOOD UP T\n",
      "THIS IS A VERY LONG TEXT SO THERE WILL BE A LOT OF LINES WHICH WILL FLOOD UP TH\n",
      "THIS IS A VERY LONG TEXT SO THERE WILL BE A LOT OF LINES WHICH WILL FLOOD UP THE\n",
      "THIS IS A VERY LONG TEXT SO THERE WILL BE A LOT OF LINES WHICH WILL FLOOD UP THE \n",
      "THIS IS A VERY LONG TEXT SO THERE WILL BE A LOT OF LINES WHICH WILL FLOOD UP THE S\n",
      "THIS IS A VERY LONG TEXT SO THERE WILL BE A LOT OF LINES WHICH WILL FLOOD UP THE SC\n",
      "THIS IS A VERY LONG TEXT SO THERE WILL BE A LOT OF LINES WHICH WILL FLOOD UP THE SCR\n",
      "THIS IS A VERY LONG TEXT SO THERE WILL BE A LOT OF LINES WHICH WILL FLOOD UP THE SCRE\n",
      "THIS IS A VERY LONG TEXT SO THERE WILL BE A LOT OF LINES WHICH WILL FLOOD UP THE SCREE\n",
      "THIS IS A VERY LONG TEXT SO THERE WILL BE A LOT OF LINES WHICH WILL FLOOD UP THE SCREEN\n",
      "THIS IS A VERY LONG TEXT SO THERE WILL BE A LOT OF LINES WHICH WILL FLOOD UP THE SCREEN \n",
      "THIS IS A VERY LONG TEXT SO THERE WILL BE A LOT OF LINES WHICH WILL FLOOD UP THE SCREEN H\n",
      "THIS IS A VERY LONG TEXT SO THERE WILL BE A LOT OF LINES WHICH WILL FLOOD UP THE SCREEN HA\n",
      "THIS IS A VERY LONG TEXT SO THERE WILL BE A LOT OF LINES WHICH WILL FLOOD UP THE SCREEN HAH\n",
      "THIS IS A VERY LONG TEXT SO THERE WILL BE A LOT OF LINES WHICH WILL FLOOD UP THE SCREEN HAHA\n",
      "THIS IS A VERY LONG TEXT SO THERE WILL BE A LOT OF LINES WHICH WILL FLOOD UP THE SCREEN HAHA \n",
      "THIS IS A VERY LONG TEXT SO THERE WILL BE A LOT OF LINES WHICH WILL FLOOD UP THE SCREEN HAHA (\n",
      "THIS IS A VERY LONG TEXT SO THERE WILL BE A LOT OF LINES WHICH WILL FLOOD UP THE SCREEN HAHA (I\n",
      "THIS IS A VERY LONG TEXT SO THERE WILL BE A LOT OF LINES WHICH WILL FLOOD UP THE SCREEN HAHA (I \n",
      "THIS IS A VERY LONG TEXT SO THERE WILL BE A LOT OF LINES WHICH WILL FLOOD UP THE SCREEN HAHA (I D\n",
      "THIS IS A VERY LONG TEXT SO THERE WILL BE A LOT OF LINES WHICH WILL FLOOD UP THE SCREEN HAHA (I DI\n",
      "THIS IS A VERY LONG TEXT SO THERE WILL BE A LOT OF LINES WHICH WILL FLOOD UP THE SCREEN HAHA (I DID\n",
      "THIS IS A VERY LONG TEXT SO THERE WILL BE A LOT OF LINES WHICH WILL FLOOD UP THE SCREEN HAHA (I DIDN\n",
      "THIS IS A VERY LONG TEXT SO THERE WILL BE A LOT OF LINES WHICH WILL FLOOD UP THE SCREEN HAHA (I DIDNT\n",
      "THIS IS A VERY LONG TEXT SO THERE WILL BE A LOT OF LINES WHICH WILL FLOOD UP THE SCREEN HAHA (I DIDNT \n",
      "THIS IS A VERY LONG TEXT SO THERE WILL BE A LOT OF LINES WHICH WILL FLOOD UP THE SCREEN HAHA (I DIDNT K\n",
      "THIS IS A VERY LONG TEXT SO THERE WILL BE A LOT OF LINES WHICH WILL FLOOD UP THE SCREEN HAHA (I DIDNT KN\n",
      "THIS IS A VERY LONG TEXT SO THERE WILL BE A LOT OF LINES WHICH WILL FLOOD UP THE SCREEN HAHA (I DIDNT KNO\n",
      "THIS IS A VERY LONG TEXT SO THERE WILL BE A LOT OF LINES WHICH WILL FLOOD UP THE SCREEN HAHA (I DIDNT KNOW\n",
      "THIS IS A VERY LONG TEXT SO THERE WILL BE A LOT OF LINES WHICH WILL FLOOD UP THE SCREEN HAHA (I DIDNT KNOW \n",
      "THIS IS A VERY LONG TEXT SO THERE WILL BE A LOT OF LINES WHICH WILL FLOOD UP THE SCREEN HAHA (I DIDNT KNOW T\n",
      "THIS IS A VERY LONG TEXT SO THERE WILL BE A LOT OF LINES WHICH WILL FLOOD UP THE SCREEN HAHA (I DIDNT KNOW TH\n",
      "THIS IS A VERY LONG TEXT SO THERE WILL BE A LOT OF LINES WHICH WILL FLOOD UP THE SCREEN HAHA (I DIDNT KNOW THA\n",
      "THIS IS A VERY LONG TEXT SO THERE WILL BE A LOT OF LINES WHICH WILL FLOOD UP THE SCREEN HAHA (I DIDNT KNOW THAT\n",
      "THIS IS A VERY LONG TEXT SO THERE WILL BE A LOT OF LINES WHICH WILL FLOOD UP THE SCREEN HAHA (I DIDNT KNOW THAT \n",
      "THIS IS A VERY LONG TEXT SO THERE WILL BE A LOT OF LINES WHICH WILL FLOOD UP THE SCREEN HAHA (I DIDNT KNOW THAT I\n",
      "THIS IS A VERY LONG TEXT SO THERE WILL BE A LOT OF LINES WHICH WILL FLOOD UP THE SCREEN HAHA (I DIDNT KNOW THAT IT\n",
      "THIS IS A VERY LONG TEXT SO THERE WILL BE A LOT OF LINES WHICH WILL FLOOD UP THE SCREEN HAHA (I DIDNT KNOW THAT IT \n",
      "THIS IS A VERY LONG TEXT SO THERE WILL BE A LOT OF LINES WHICH WILL FLOOD UP THE SCREEN HAHA (I DIDNT KNOW THAT IT C\n",
      "THIS IS A VERY LONG TEXT SO THERE WILL BE A LOT OF LINES WHICH WILL FLOOD UP THE SCREEN HAHA (I DIDNT KNOW THAT IT CO\n",
      "THIS IS A VERY LONG TEXT SO THERE WILL BE A LOT OF LINES WHICH WILL FLOOD UP THE SCREEN HAHA (I DIDNT KNOW THAT IT COU\n",
      "THIS IS A VERY LONG TEXT SO THERE WILL BE A LOT OF LINES WHICH WILL FLOOD UP THE SCREEN HAHA (I DIDNT KNOW THAT IT COUL\n",
      "THIS IS A VERY LONG TEXT SO THERE WILL BE A LOT OF LINES WHICH WILL FLOOD UP THE SCREEN HAHA (I DIDNT KNOW THAT IT COULD\n",
      "THIS IS A VERY LONG TEXT SO THERE WILL BE A LOT OF LINES WHICH WILL FLOOD UP THE SCREEN HAHA (I DIDNT KNOW THAT IT COULD \n",
      "THIS IS A VERY LONG TEXT SO THERE WILL BE A LOT OF LINES WHICH WILL FLOOD UP THE SCREEN HAHA (I DIDNT KNOW THAT IT COULD S\n",
      "THIS IS A VERY LONG TEXT SO THERE WILL BE A LOT OF LINES WHICH WILL FLOOD UP THE SCREEN HAHA (I DIDNT KNOW THAT IT COULD SC\n",
      "THIS IS A VERY LONG TEXT SO THERE WILL BE A LOT OF LINES WHICH WILL FLOOD UP THE SCREEN HAHA (I DIDNT KNOW THAT IT COULD SCR\n",
      "THIS IS A VERY LONG TEXT SO THERE WILL BE A LOT OF LINES WHICH WILL FLOOD UP THE SCREEN HAHA (I DIDNT KNOW THAT IT COULD SCRO\n",
      "THIS IS A VERY LONG TEXT SO THERE WILL BE A LOT OF LINES WHICH WILL FLOOD UP THE SCREEN HAHA (I DIDNT KNOW THAT IT COULD SCROL\n",
      "THIS IS A VERY LONG TEXT SO THERE WILL BE A LOT OF LINES WHICH WILL FLOOD UP THE SCREEN HAHA (I DIDNT KNOW THAT IT COULD SCROLL\n",
      "THIS IS A VERY LONG TEXT SO THERE WILL BE A LOT OF LINES WHICH WILL FLOOD UP THE SCREEN HAHA (I DIDNT KNOW THAT IT COULD SCROLL \n",
      "THIS IS A VERY LONG TEXT SO THERE WILL BE A LOT OF LINES WHICH WILL FLOOD UP THE SCREEN HAHA (I DIDNT KNOW THAT IT COULD SCROLL :\n",
      "THIS IS A VERY LONG TEXT SO THERE WILL BE A LOT OF LINES WHICH WILL FLOOD UP THE SCREEN HAHA (I DIDNT KNOW THAT IT COULD SCROLL :(\n",
      "THIS IS A VERY LONG TEXT SO THERE WILL BE A LOT OF LINES WHICH WILL FLOOD UP THE SCREEN HAHA (I DIDNT KNOW THAT IT COULD SCROLL :( \n",
      "THIS IS A VERY LONG TEXT SO THERE WILL BE A LOT OF LINES WHICH WILL FLOOD UP THE SCREEN HAHA (I DIDNT KNOW THAT IT COULD SCROLL :( )\n"
     ]
    }
   ],
   "source": [
    "## Code here\n",
    "def spell(string):\n",
    "    for i in range(len(string)):\n",
    "        print(string[:(i+1)])\n",
    "\n",
    "spell('THIS IS A VERY LONG TEXT SO THERE WILL BE A LOT OF LINES WHICH WILL FLOOD UP THE SCREEN HAHA (I DIDNT KNOW THAT IT COULD SCROLL :( )')"
   ],
   "metadata": {
    "collapsed": false,
    "ExecuteTime": {
     "end_time": "2025-07-03T13:02:24.778117Z",
     "start_time": "2025-07-03T13:02:11.061029Z"
    }
   }
  },
  {
   "cell_type": "code",
   "execution_count": 9,
   "id": "4b3d059d",
   "metadata": {
    "ExecuteTime": {
     "end_time": "2025-07-03T12:54:03.498439Z",
     "start_time": "2025-07-03T12:54:03.479224Z"
    }
   },
   "outputs": [
    {
     "name": "stdout",
     "output_type": "stream",
     "text": [
      "[2, 2, 2, 2, 2, 2, 2, 7, 7, -1]\n"
     ]
    }
   ],
   "source": [
    "## Code here\n",
    "def repeats(a, b):\n",
    "    l = []\n",
    "    for _ in range(b):\n",
    "        l.append(a)\n",
    "    for _ in range(a):\n",
    "        l.append(b)\n",
    "    l.append(-1)\n",
    "    return l\n",
    "\n",
    "print(repeats(2, 7))"
   ]
  },
  {
   "cell_type": "markdown",
   "id": "5218d50d",
   "metadata": {},
   "source": [
    "#### Question 12.4a\n",
    "In Mathematics, you have learnt how to find the highest common factor of two numbers. Write a function `hcf(a,b)` that computes the highest common factor of two positive numbers a, b. Your code should make use of a `for loop` to implement the solution."
   ]
  },
  {
   "cell_type": "code",
   "execution_count": 12,
   "id": "7d20d562",
   "metadata": {
    "ExecuteTime": {
     "end_time": "2025-07-03T12:58:09.359283Z",
     "start_time": "2025-07-03T12:58:09.353829Z"
    }
   },
   "outputs": [],
   "source": [
    "## Code here\n",
    "def hcf(a, b):\n",
    "    highest = 1\n",
    "    for i in range(max(a, b)):\n",
    "        if a % (i+1) == 0 and b % (i+1) == 0:\n",
    "            highest = i+1\n",
    "    return highest"
   ]
  },
  {
   "cell_type": "markdown",
   "id": "dad22460",
   "metadata": {},
   "source": [
    "#### Question 12.4b\n",
    "Write Python code to test your `hcf`.\n",
    "The values for a and b are stored as a list in the  list `test_cases`as shown below. \n",
    "\n",
    "The expected output for your code should be as follows:\n",
    "```\n",
    "The hcf of 48 and 18 is 6\n",
    "The hcf of 56 and 98 is 14\n",
    "The hcf of 12 and 15 is 3\n",
    "The hcf of 100 and 75 is 25\n",
    "The hcf of 17 and 13 is 1\n",
    "The hcf of 0 and 5 is 5\n",
    "The hcf of 24 and 16 is 8\n",
    "```\n"
   ]
  },
  {
   "cell_type": "code",
   "execution_count": 13,
   "id": "18c49c35",
   "metadata": {
    "ExecuteTime": {
     "end_time": "2025-07-03T12:58:12.400518Z",
     "start_time": "2025-07-03T12:58:12.395177Z"
    }
   },
   "outputs": [
    {
     "name": "stdout",
     "output_type": "stream",
     "text": [
      "6\n",
      "14\n",
      "3\n",
      "25\n",
      "1\n",
      "5\n",
      "8\n"
     ]
    }
   ],
   "source": [
    "test_cases = [\n",
    "        [48, 18],\n",
    "        [56, 98],\n",
    "        [12, 15],\n",
    "        [100, 75],\n",
    "        [17, 13],\n",
    "        [0, 5],\n",
    "        [24, 16]\n",
    "    ]\n",
    "\n",
    "## Code here\n",
    "for case in test_cases:\n",
    "    print(hcf(case[0], case[1]))"
   ]
  },
  {
   "cell_type": "code",
   "execution_count": null,
   "outputs": [],
   "source": [],
   "metadata": {
    "collapsed": false
   }
  }
 ],
 "metadata": {
  "kernelspec": {
   "display_name": "python12",
   "language": "python",
   "name": "python3"
  },
  "language_info": {
   "codemirror_mode": {
    "name": "ipython",
    "version": 3
   },
   "file_extension": ".py",
   "mimetype": "text/x-python",
   "name": "python",
   "nbconvert_exporter": "python",
   "pygments_lexer": "ipython3",
   "version": "3.12.0"
  }
 },
 "nbformat": 4,
 "nbformat_minor": 5
}
